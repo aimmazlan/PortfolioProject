{
 "cells": [
  {
   "cell_type": "markdown",
   "id": "a653482e",
   "metadata": {},
   "source": [
    "# Telco Churn Model Using Naïve Bayes Classifier"
   ]
  },
  {
   "cell_type": "markdown",
   "id": "2410d639",
   "metadata": {},
   "source": [
    "Naive Bayes Classification: Dropped call, Payment Method, Bill Type (Local,Long Distance), and Estimated Income to predict Churn."
   ]
  },
  {
   "cell_type": "code",
   "execution_count": 1,
   "id": "83f8f13d",
   "metadata": {},
   "outputs": [],
   "source": [
    "#1) Import necessary library \n",
    "import pandas as pd\n",
    "from sklearn.preprocessing import LabelEncoder\n",
    "import warnings\n",
    "warnings.filterwarnings(\"ignore\")"
   ]
  },
  {
   "cell_type": "code",
   "execution_count": 2,
   "id": "b0f20ece",
   "metadata": {},
   "outputs": [
    {
     "data": {
      "text/html": [
       "<div>\n",
       "<style scoped>\n",
       "    .dataframe tbody tr th:only-of-type {\n",
       "        vertical-align: middle;\n",
       "    }\n",
       "\n",
       "    .dataframe tbody tr th {\n",
       "        vertical-align: top;\n",
       "    }\n",
       "\n",
       "    .dataframe thead th {\n",
       "        text-align: right;\n",
       "    }\n",
       "</style>\n",
       "<table border=\"1\" class=\"dataframe\">\n",
       "  <thead>\n",
       "    <tr style=\"text-align: right;\">\n",
       "      <th></th>\n",
       "      <th>ID</th>\n",
       "      <th>LONGDIST</th>\n",
       "      <th>International</th>\n",
       "      <th>LOCAL</th>\n",
       "      <th>DROPPED</th>\n",
       "      <th>PAY_MTHD</th>\n",
       "      <th>LocalBillType</th>\n",
       "      <th>LongDistanceBillType</th>\n",
       "      <th>AGE</th>\n",
       "      <th>SEX</th>\n",
       "      <th>STATUS</th>\n",
       "      <th>CHILDREN</th>\n",
       "      <th>Est_Income</th>\n",
       "      <th>Car_Owner</th>\n",
       "      <th>CHURNED</th>\n",
       "    </tr>\n",
       "  </thead>\n",
       "  <tbody>\n",
       "    <tr>\n",
       "      <th>0</th>\n",
       "      <td>0</td>\n",
       "      <td>5.246</td>\n",
       "      <td>7.515</td>\n",
       "      <td>86.328</td>\n",
       "      <td>0</td>\n",
       "      <td>CH</td>\n",
       "      <td>FreeLocal</td>\n",
       "      <td>Standard</td>\n",
       "      <td>57</td>\n",
       "      <td>F</td>\n",
       "      <td>M</td>\n",
       "      <td>2</td>\n",
       "      <td>27535.3</td>\n",
       "      <td>Y</td>\n",
       "      <td>Vol</td>\n",
       "    </tr>\n",
       "    <tr>\n",
       "      <th>1</th>\n",
       "      <td>3</td>\n",
       "      <td>0.000</td>\n",
       "      <td>0.000</td>\n",
       "      <td>3.942</td>\n",
       "      <td>0</td>\n",
       "      <td>CC</td>\n",
       "      <td>Budget</td>\n",
       "      <td>Intnl_discount</td>\n",
       "      <td>50</td>\n",
       "      <td>F</td>\n",
       "      <td>S</td>\n",
       "      <td>2</td>\n",
       "      <td>64632.3</td>\n",
       "      <td>N</td>\n",
       "      <td>InVol</td>\n",
       "    </tr>\n",
       "    <tr>\n",
       "      <th>2</th>\n",
       "      <td>4</td>\n",
       "      <td>5.556</td>\n",
       "      <td>0.000</td>\n",
       "      <td>9.363</td>\n",
       "      <td>1</td>\n",
       "      <td>CC</td>\n",
       "      <td>Budget</td>\n",
       "      <td>Intnl_discount</td>\n",
       "      <td>68</td>\n",
       "      <td>F</td>\n",
       "      <td>M</td>\n",
       "      <td>2</td>\n",
       "      <td>81000.9</td>\n",
       "      <td>N</td>\n",
       "      <td>Vol</td>\n",
       "    </tr>\n",
       "    <tr>\n",
       "      <th>3</th>\n",
       "      <td>8</td>\n",
       "      <td>14.019</td>\n",
       "      <td>5.680</td>\n",
       "      <td>29.806</td>\n",
       "      <td>0</td>\n",
       "      <td>CC</td>\n",
       "      <td>Budget</td>\n",
       "      <td>Standard</td>\n",
       "      <td>34</td>\n",
       "      <td>M</td>\n",
       "      <td>S</td>\n",
       "      <td>0</td>\n",
       "      <td>87467.1</td>\n",
       "      <td>Y</td>\n",
       "      <td>Current</td>\n",
       "    </tr>\n",
       "    <tr>\n",
       "      <th>4</th>\n",
       "      <td>10</td>\n",
       "      <td>13.664</td>\n",
       "      <td>2.956</td>\n",
       "      <td>32.638</td>\n",
       "      <td>0</td>\n",
       "      <td>CC</td>\n",
       "      <td>FreeLocal</td>\n",
       "      <td>Intnl_discount</td>\n",
       "      <td>60</td>\n",
       "      <td>M</td>\n",
       "      <td>M</td>\n",
       "      <td>2</td>\n",
       "      <td>83220.6</td>\n",
       "      <td>N</td>\n",
       "      <td>Vol</td>\n",
       "    </tr>\n",
       "  </tbody>\n",
       "</table>\n",
       "</div>"
      ],
      "text/plain": [
       "   ID  LONGDIST  International   LOCAL  DROPPED PAY_MTHD LocalBillType  \\\n",
       "0   0     5.246          7.515  86.328        0       CH     FreeLocal   \n",
       "1   3     0.000          0.000   3.942        0       CC        Budget   \n",
       "2   4     5.556          0.000   9.363        1       CC        Budget   \n",
       "3   8    14.019          5.680  29.806        0       CC        Budget   \n",
       "4  10    13.664          2.956  32.638        0       CC     FreeLocal   \n",
       "\n",
       "  LongDistanceBillType  AGE SEX STATUS  CHILDREN  Est_Income Car_Owner  \\\n",
       "0             Standard   57   F      M         2     27535.3         Y   \n",
       "1       Intnl_discount   50   F      S         2     64632.3         N   \n",
       "2       Intnl_discount   68   F      M         2     81000.9         N   \n",
       "3             Standard   34   M      S         0     87467.1         Y   \n",
       "4       Intnl_discount   60   M      M         2     83220.6         N   \n",
       "\n",
       "   CHURNED  \n",
       "0      Vol  \n",
       "1    InVol  \n",
       "2      Vol  \n",
       "3  Current  \n",
       "4      Vol  "
      ]
     },
     "execution_count": 2,
     "metadata": {},
     "output_type": "execute_result"
    }
   ],
   "source": [
    "#2) Import dataset (telco data)\n",
    "ds=pd.read_excel('telco-churn-ASSESSMENT.xlsx')\n",
    "ds.head()"
   ]
  },
  {
   "cell_type": "code",
   "execution_count": 3,
   "id": "d973db56",
   "metadata": {},
   "outputs": [
    {
     "name": "stdout",
     "output_type": "stream",
     "text": [
      "<class 'pandas.core.frame.DataFrame'>\n",
      "RangeIndex: 1477 entries, 0 to 1476\n",
      "Data columns (total 15 columns):\n",
      " #   Column                Non-Null Count  Dtype  \n",
      "---  ------                --------------  -----  \n",
      " 0   ID                    1477 non-null   int64  \n",
      " 1   LONGDIST              1477 non-null   float64\n",
      " 2   International         1477 non-null   float64\n",
      " 3   LOCAL                 1477 non-null   float64\n",
      " 4   DROPPED               1477 non-null   int64  \n",
      " 5   PAY_MTHD              1477 non-null   object \n",
      " 6   LocalBillType         1477 non-null   object \n",
      " 7   LongDistanceBillType  1477 non-null   object \n",
      " 8   AGE                   1477 non-null   int64  \n",
      " 9   SEX                   1477 non-null   object \n",
      " 10  STATUS                1477 non-null   object \n",
      " 11  CHILDREN              1477 non-null   int64  \n",
      " 12  Est_Income            1477 non-null   float64\n",
      " 13  Car_Owner             1477 non-null   object \n",
      " 14  CHURNED               1477 non-null   object \n",
      "dtypes: float64(4), int64(4), object(7)\n",
      "memory usage: 173.2+ KB\n"
     ]
    }
   ],
   "source": [
    "#check for missing/null data\n",
    "\n",
    "ds.info()"
   ]
  },
  {
   "cell_type": "code",
   "execution_count": 4,
   "id": "87cae2dd",
   "metadata": {},
   "outputs": [],
   "source": [
    "#Some columns in the dataset I don’t think will be needed for training the machine learning model. \n",
    "#So we will be continue focusing on these five attributes:\n",
    "#(Dropped calls, Payment Method, Local bill type, Long distance bill type, Estimate Income)"
   ]
  },
  {
   "cell_type": "code",
   "execution_count": 5,
   "id": "0579cad5",
   "metadata": {},
   "outputs": [],
   "source": [
    "#3) Allocate the relevant attributes as input and output\n",
    "\n",
    "x = ds[['DROPPED', 'PAY_MTHD', 'LocalBillType', 'LongDistanceBillType', 'Est_Income']]\n",
    "y = ds[['CHURNED']]"
   ]
  },
  {
   "cell_type": "code",
   "execution_count": 6,
   "id": "f82304a6",
   "metadata": {},
   "outputs": [],
   "source": [
    "#4) Use LabelEncoder to encode categorical data\n",
    "encoder = LabelEncoder()\n",
    "x['PAY_MTHD'] = encoder.fit_transform(x['PAY_MTHD'])\n",
    "x['LocalBillType'] = encoder.fit_transform(x['LocalBillType'])\n",
    "x['LongDistanceBillType'] = encoder.fit_transform(x['LongDistanceBillType'])"
   ]
  },
  {
   "cell_type": "code",
   "execution_count": 7,
   "id": "e4cee691",
   "metadata": {},
   "outputs": [],
   "source": [
    "# Encoding the Dependent Variable\n",
    "labelencoder_y = LabelEncoder()\n",
    "y = labelencoder_y.fit_transform(y)"
   ]
  },
  {
   "cell_type": "code",
   "execution_count": 8,
   "id": "72319b9d",
   "metadata": {},
   "outputs": [],
   "source": [
    "#5) Split data into training and test sets with the appropriate proportions\n",
    "from sklearn.model_selection import train_test_split\n",
    "X_train, X_test , y_train , y_test = train_test_split (x, y, test_size = 0.2, random_state = 0)"
   ]
  },
  {
   "cell_type": "code",
   "execution_count": 9,
   "id": "0f2c41a4",
   "metadata": {
    "scrolled": true
   },
   "outputs": [],
   "source": [
    "#6) Normalized data using StandardScaler\n",
    "from sklearn.preprocessing import StandardScaler\n",
    "sc_X = StandardScaler()\n",
    "X = sc_X.fit_transform(x)"
   ]
  },
  {
   "cell_type": "code",
   "execution_count": 10,
   "id": "c7f5f084",
   "metadata": {},
   "outputs": [
    {
     "data": {
      "text/plain": [
       "GaussianNB()"
      ]
     },
     "execution_count": 10,
     "metadata": {},
     "output_type": "execute_result"
    }
   ],
   "source": [
    "#7) Fit and predict results using the Classifier\n",
    "from sklearn.naive_bayes import GaussianNB\n",
    "classifier= GaussianNB()\n",
    "classifier.fit(X_train,y_train)"
   ]
  },
  {
   "cell_type": "code",
   "execution_count": 11,
   "id": "95725e3f",
   "metadata": {},
   "outputs": [
    {
     "data": {
      "text/plain": [
       "(array([0, 0, 0, 2, 0, 2, 2, 0, 0, 0, 2, 0, 0, 0, 2, 0, 0, 0, 0, 0, 1, 2,\n",
       "        0, 0, 0, 0, 0, 0, 0, 0, 0, 0, 0, 0, 0, 0, 2, 0, 2, 2, 2, 0, 0, 2,\n",
       "        0, 0, 0, 2, 2, 0, 0, 0, 2, 2, 0, 0, 0, 1, 0, 2, 2, 0, 0, 1, 0, 0,\n",
       "        2, 0, 2, 2, 2, 1, 0, 0, 0, 0, 2, 0, 0, 2, 1, 0, 0, 2, 0, 1, 2, 0,\n",
       "        0, 2, 0, 0, 0, 0, 0, 0, 0, 0, 2, 2, 0, 1, 0, 2, 2, 2, 0, 0, 0, 1,\n",
       "        2, 0, 2, 2, 0, 0, 2, 0, 0, 2, 2, 2, 2, 1, 0, 0, 1, 2, 0, 0, 1, 2,\n",
       "        2, 2, 0, 1, 0, 0, 0, 1, 0, 2, 0, 2, 0, 0, 0, 0, 1, 0, 2, 0, 0, 0,\n",
       "        0, 0, 0, 2, 2, 0, 0, 2, 0, 1, 0, 0, 2, 2, 0, 0, 2, 0, 0, 2, 2, 2,\n",
       "        0, 0, 0, 0, 0, 2, 1, 0, 2, 1, 2, 1, 0, 0, 0, 2, 0, 0, 0, 0, 1, 0,\n",
       "        2, 0, 0, 2, 0, 2, 0, 2, 0, 2, 0, 0, 0, 0, 2, 2, 0, 0, 2, 0, 2, 2,\n",
       "        1, 0, 2, 0, 0, 1, 2, 2, 0, 0, 0, 1, 0, 0, 0, 0, 2, 2, 2, 0, 0, 2,\n",
       "        2, 0, 0, 0, 2, 0, 0, 0, 0, 0, 0, 0, 0, 0, 0, 2, 0, 0, 2, 1, 0, 0,\n",
       "        0, 0, 0, 0, 0, 2, 0, 0, 0, 2, 2, 0, 0, 2, 0, 0, 0, 2, 0, 2, 2, 0,\n",
       "        0, 0, 1, 2, 2, 2, 1, 2, 1, 2]),\n",
       " array([0, 0, 0, 0, 0, 0, 0, 0, 0, 0, 0, 0, 0, 0, 0, 0, 0, 0, 0, 0, 0, 0,\n",
       "        0, 0, 0, 0, 0, 0, 0, 0, 0, 0, 0, 0, 0, 0, 0, 0, 0, 0, 0, 0, 0, 0,\n",
       "        0, 0, 0, 0, 0, 0, 0, 0, 0, 0, 0, 0, 0, 0, 0, 0, 0, 0, 0, 0, 0, 0,\n",
       "        0, 0, 0, 0, 0, 0, 0, 0, 0, 0, 0, 0, 0, 0, 0, 0, 0, 0, 0, 0, 0, 0,\n",
       "        0, 0, 0, 0, 0, 0, 0, 0, 0, 0, 0, 0, 0, 0, 0, 0, 0, 0, 0, 0, 0, 0,\n",
       "        0, 0, 0, 0, 0, 0, 0, 0, 0, 0, 0, 0, 0, 0, 0, 0, 0, 0, 0, 0, 0, 0,\n",
       "        0, 0, 0, 0, 0, 0, 0, 0, 0, 0, 0, 0, 0, 0, 0, 0, 0, 0, 0, 0, 0, 0,\n",
       "        0, 0, 0, 0, 0, 0, 0, 0, 0, 0, 0, 0, 0, 0, 0, 0, 0, 0, 0, 0, 0, 0,\n",
       "        0, 0, 0, 0, 0, 0, 0, 0, 0, 0, 0, 0, 0, 0, 0, 0, 0, 0, 0, 0, 0, 0,\n",
       "        0, 0, 0, 0, 0, 0, 0, 0, 0, 0, 0, 0, 0, 0, 0, 0, 0, 0, 0, 0, 0, 0,\n",
       "        0, 0, 0, 0, 0, 0, 0, 0, 0, 0, 0, 0, 0, 0, 0, 0, 0, 0, 0, 0, 0, 0,\n",
       "        0, 0, 0, 0, 0, 0, 0, 0, 0, 0, 0, 0, 0, 0, 0, 0, 0, 0, 0, 0, 0, 0,\n",
       "        0, 0, 0, 0, 0, 0, 0, 0, 0, 0, 0, 0, 0, 0, 0, 0, 0, 0, 0, 0, 0, 0,\n",
       "        0, 0, 0, 0, 0, 0, 0, 0, 0, 0]))"
      ]
     },
     "execution_count": 11,
     "metadata": {},
     "output_type": "execute_result"
    }
   ],
   "source": [
    "#8) Evaluate the results\n",
    "y_pred=classifier.predict(X_test)\n",
    "y_test,y_pred"
   ]
  },
  {
   "cell_type": "code",
   "execution_count": 12,
   "id": "cc9f64cc",
   "metadata": {},
   "outputs": [
    {
     "data": {
      "text/plain": [
       "array([[178,   0,   0],\n",
       "       [ 26,   0,   0],\n",
       "       [ 92,   0,   0]], dtype=int64)"
      ]
     },
     "execution_count": 12,
     "metadata": {},
     "output_type": "execute_result"
    }
   ],
   "source": [
    "#Performance Evaluation: using confusion matrix\n",
    "from sklearn.metrics import confusion_matrix\n",
    "cm=confusion_matrix(y_test,y_pred)\n",
    "cm"
   ]
  },
  {
   "cell_type": "code",
   "execution_count": 13,
   "id": "70d22d7a",
   "metadata": {},
   "outputs": [
    {
     "data": {
      "text/plain": [
       "0.6013513513513513"
      ]
     },
     "execution_count": 13,
     "metadata": {},
     "output_type": "execute_result"
    }
   ],
   "source": [
    "#calculate the prediction accuracy\n",
    "from sklearn.metrics import accuracy_score\n",
    "accuracy_score(y_test, y_pred)"
   ]
  },
  {
   "cell_type": "markdown",
   "id": "caa737a9",
   "metadata": {},
   "source": [
    "                                                                                                                           A.M"
   ]
  }
 ],
 "metadata": {
  "kernelspec": {
   "display_name": "Python 3 (ipykernel)",
   "language": "python",
   "name": "python3"
  },
  "language_info": {
   "codemirror_mode": {
    "name": "ipython",
    "version": 3
   },
   "file_extension": ".py",
   "mimetype": "text/x-python",
   "name": "python",
   "nbconvert_exporter": "python",
   "pygments_lexer": "ipython3",
   "version": "3.9.12"
  }
 },
 "nbformat": 4,
 "nbformat_minor": 5
}
