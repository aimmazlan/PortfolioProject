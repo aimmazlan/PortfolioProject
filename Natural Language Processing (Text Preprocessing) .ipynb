{
 "cells": [
  {
   "cell_type": "code",
   "execution_count": 2,
   "id": "2a9fcff2",
   "metadata": {},
   "outputs": [
    {
     "data": {
      "text/plain": [
       "['I', 'really', 'like', 'the', 'dessert', 'here']"
      ]
     },
     "execution_count": 2,
     "metadata": {},
     "output_type": "execute_result"
    }
   ],
   "source": [
    "text = 'I really like the dessert here'\n",
    "text = text.split()\n",
    "text"
   ]
  },
  {
   "cell_type": "code",
   "execution_count": 9,
   "id": "1c5f9777",
   "metadata": {},
   "outputs": [
    {
     "name": "stderr",
     "output_type": "stream",
     "text": [
      "[nltk_data] Downloading package stopwords to\n",
      "[nltk_data]     C:\\Users\\Acer\\AppData\\Roaming\\nltk_data...\n",
      "[nltk_data]   Unzipping corpora\\stopwords.zip.\n"
     ]
    },
    {
     "data": {
      "text/plain": [
       "True"
      ]
     },
     "execution_count": 9,
     "metadata": {},
     "output_type": "execute_result"
    }
   ],
   "source": [
    "import nltk\n",
    "nltk.download('stopwords')"
   ]
  },
  {
   "cell_type": "code",
   "execution_count": 10,
   "id": "d44ee8ec",
   "metadata": {},
   "outputs": [],
   "source": [
    "from nltk.corpus import stopwords\n",
    "filtered = []\n",
    "Stopwords = set(stopwords.words('english'))\n",
    "for word in text:\n",
    "    if word not in Stopwords:\n",
    "        filtered.append(word)\n",
    "    "
   ]
  },
  {
   "cell_type": "code",
   "execution_count": 12,
   "id": "272581b4",
   "metadata": {},
   "outputs": [
    {
     "data": {
      "text/plain": [
       "['I', 'really', 'like', 'dessert']"
      ]
     },
     "execution_count": 12,
     "metadata": {},
     "output_type": "execute_result"
    }
   ],
   "source": [
    "filtered"
   ]
  },
  {
   "cell_type": "code",
   "execution_count": 15,
   "id": "8be8d36c",
   "metadata": {},
   "outputs": [
    {
     "name": "stdout",
     "output_type": "stream",
     "text": [
      "IreallyikethedesserthereIamdefinitelycomingbacktothisreastaurant\n"
     ]
    }
   ],
   "source": [
    "#Remove punctuations and special symboLs\n",
    "import re\n",
    "text = \"I really 1ike the dessert here. I am definitely coming back to this reastaurant! \"\n",
    "text = re.sub( r'[^a-zA-Z]' , '' , text)\n",
    "print(text) "
   ]
  },
  {
   "cell_type": "markdown",
   "id": "8866607a",
   "metadata": {},
   "source": [
    "Word Normalization – Stemming Example\n"
   ]
  },
  {
   "cell_type": "code",
   "execution_count": 18,
   "id": "c876a5c9",
   "metadata": {},
   "outputs": [
    {
     "name": "stdout",
     "output_type": "stream",
     "text": [
      "student \n",
      "studi\n",
      "studi\n",
      "studi\n"
     ]
    }
   ],
   "source": [
    "from nltk.stem.porter import PorterStemmer\n",
    "ps = PorterStemmer ()\n",
    "words = ['student ', 'study', 'studying', 'studies']\n",
    "for word in words:\n",
    "        stemming = ps.stem (word)\n",
    "        print(stemming)"
   ]
  },
  {
   "cell_type": "code",
   "execution_count": 19,
   "id": "fb2efea1",
   "metadata": {},
   "outputs": [
    {
     "name": "stdout",
     "output_type": "stream",
     "text": [
      "love\n",
      "love\n",
      "loveabl\n",
      "love\n"
     ]
    }
   ],
   "source": [
    "from nltk.stem.porter import PorterStemmer\n",
    "ps = PorterStemmer()\n",
    "words = ['love', 'lovely', 'loveable', 'loving']\n",
    "for word in words:\n",
    "    stemming = ps.stem (word)\n",
    "    print (stemming)"
   ]
  },
  {
   "cell_type": "markdown",
   "id": "6c1ad348",
   "metadata": {},
   "source": [
    "Word Normalization – Lemmatization Example"
   ]
  },
  {
   "cell_type": "code",
   "execution_count": 21,
   "id": "d253e002",
   "metadata": {},
   "outputs": [
    {
     "name": "stderr",
     "output_type": "stream",
     "text": [
      "[nltk_data] Downloading package wordnet to\n",
      "[nltk_data]     C:\\Users\\Acer\\AppData\\Roaming\\nltk_data...\n",
      "[nltk_data] Downloading package omw-1.4 to\n",
      "[nltk_data]     C:\\Users\\Acer\\AppData\\Roaming\\nltk_data...\n"
     ]
    },
    {
     "data": {
      "text/plain": [
       "True"
      ]
     },
     "execution_count": 21,
     "metadata": {},
     "output_type": "execute_result"
    }
   ],
   "source": [
    "nltk.download('wordnet')\n",
    "nltk.download('omw-1.4')"
   ]
  },
  {
   "cell_type": "code",
   "execution_count": 5,
   "id": "0a0f6d6d",
   "metadata": {},
   "outputs": [
    {
     "name": "stdout",
     "output_type": "stream",
     "text": [
      "love\n",
      "lovely\n",
      "loveable\n",
      "loving\n"
     ]
    }
   ],
   "source": [
    "from nltk.stem import WordNetLemmatizer\n",
    "wnl = WordNetLemmatizer()\n",
    "Words=['student', 'study', 'studying', 'studies ']\n",
    "for word in words:\n",
    "    tokens = wnl.lemmatize (word)\n",
    "    print(tokens)"
   ]
  },
  {
   "cell_type": "code",
   "execution_count": 6,
   "id": "76d78926",
   "metadata": {},
   "outputs": [
    {
     "name": "stdout",
     "output_type": "stream",
     "text": [
      "love\n",
      "lovely\n",
      "loveable\n",
      "loving\n"
     ]
    }
   ],
   "source": [
    "from nltk.stem import WordNetLemmatizer\n",
    "wnl = WordNetLemmatizer()\n",
    "words =['love', 'lovely', 'loveable', 'loving']\n",
    "for word in words:\n",
    "    tokens = wnl.lemmatize (word)\n",
    "    print(tokens)"
   ]
  }
 ],
 "metadata": {
  "kernelspec": {
   "display_name": "Python 3 (ipykernel)",
   "language": "python",
   "name": "python3"
  },
  "language_info": {
   "codemirror_mode": {
    "name": "ipython",
    "version": 3
   },
   "file_extension": ".py",
   "mimetype": "text/x-python",
   "name": "python",
   "nbconvert_exporter": "python",
   "pygments_lexer": "ipython3",
   "version": "3.9.12"
  }
 },
 "nbformat": 4,
 "nbformat_minor": 5
}
