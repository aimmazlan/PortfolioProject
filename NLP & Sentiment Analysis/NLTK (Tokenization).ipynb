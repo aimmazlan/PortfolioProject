{
 "cells": [
  {
   "cell_type": "markdown",
   "id": "801d5cc6",
   "metadata": {},
   "source": [
    "# Tokenization"
   ]
  },
  {
   "cell_type": "code",
   "execution_count": 15,
   "id": "3f0549e5",
   "metadata": {},
   "outputs": [
    {
     "name": "stdout",
     "output_type": "stream",
     "text": [
      "['God', 'is', 'Great', '!', 'I', 'won', 'a', 'lottery', '.']\n"
     ]
    }
   ],
   "source": [
    "from nltk.tokenize import word_tokenize\n",
    "text = \"God is Great! I won a lottery.\"\n",
    "print(word_tokenize (text))"
   ]
  },
  {
   "cell_type": "code",
   "execution_count": 2,
   "id": "312ae092",
   "metadata": {},
   "outputs": [
    {
     "data": {
      "text/plain": [
       "['God', 'is', 'Great!', 'I', 'won', 'a', 'lottery.']"
      ]
     },
     "execution_count": 2,
     "metadata": {},
     "output_type": "execute_result"
    }
   ],
   "source": [
    "text= \"God is Great! I won a lottery.\"\n",
    "text.split()"
   ]
  },
  {
   "cell_type": "code",
   "execution_count": 3,
   "id": "8779bcf0",
   "metadata": {},
   "outputs": [
    {
     "data": {
      "text/plain": [
       "['God', 'is', 'Great', 'I', 'won', 'a', 'lottery']"
      ]
     },
     "execution_count": 3,
     "metadata": {},
     "output_type": "execute_result"
    }
   ],
   "source": [
    "text = \"God is Great I won a lottery\"\n",
    "text.split()"
   ]
  },
  {
   "cell_type": "markdown",
   "id": "d8df1f92",
   "metadata": {},
   "source": [
    "Text Classification - Bag-of-Words model"
   ]
  },
  {
   "cell_type": "code",
   "execution_count": 14,
   "id": "e1690a04",
   "metadata": {},
   "outputs": [
    {
     "name": "stdout",
     "output_type": "stream",
     "text": [
      "   but  can  catch  drink  flies  him  honey  horse  lead  make  more  than  to  vineger  water  with  you\n",
      "0    0    2      1      0      1    0      1      0     0     0     1     1   0        1      0     2    2\n",
      "1    1    2      0      1      0    1      0      1     1     1     0     0   1        0      1     0    2\n"
     ]
    },
    {
     "name": "stderr",
     "output_type": "stream",
     "text": [
      "C:\\Users\\Acer\\anaconda3\\lib\\site-packages\\sklearn\\utils\\deprecation.py:87: FutureWarning: Function get_feature_names is deprecated; get_feature_names is deprecated in 1.0 and will be removed in 1.2. Please use get_feature_names_out instead.\n",
      "  warnings.warn(msg, category=FutureWarning)\n"
     ]
    }
   ],
   "source": [
    "import pandas as pd\n",
    "from sklearn.feature_extraction.text import CountVectorizer\n",
    "text = [\"You can catch more flies with honey than you can with vineger.\" , \n",
    "        \"You can lead a horse to water, but you can't make him drink.\"]\n",
    "cv = CountVectorizer()\n",
    "X = cv.fit_transform(text)\n",
    "print(pd.DataFrame(X.A, columns=cv.get_feature_names()).to_string())"
   ]
  }
 ],
 "metadata": {
  "kernelspec": {
   "display_name": "Python 3 (ipykernel)",
   "language": "python",
   "name": "python3"
  },
  "language_info": {
   "codemirror_mode": {
    "name": "ipython",
    "version": 3
   },
   "file_extension": ".py",
   "mimetype": "text/x-python",
   "name": "python",
   "nbconvert_exporter": "python",
   "pygments_lexer": "ipython3",
   "version": "3.9.12"
  }
 },
 "nbformat": 4,
 "nbformat_minor": 5
}
