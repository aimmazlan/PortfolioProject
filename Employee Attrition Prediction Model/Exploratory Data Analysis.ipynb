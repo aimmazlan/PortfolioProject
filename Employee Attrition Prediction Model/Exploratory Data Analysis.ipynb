{
 "cells": [
  {
   "cell_type": "markdown",
   "id": "ce07bed6",
   "metadata": {},
   "source": [
    "Simple data exploration and data analysis"
   ]
  },
  {
   "cell_type": "code",
   "execution_count": 1,
   "id": "7227962b",
   "metadata": {},
   "outputs": [],
   "source": [
    "#import libraries \n",
    "import numpy as np\n",
    "import matplotlib.pyplot as plt\n",
    "import pandas as pd"
   ]
  },
  {
   "cell_type": "code",
   "execution_count": 2,
   "id": "f929afe0",
   "metadata": {},
   "outputs": [
    {
     "data": {
      "text/html": [
       "<div>\n",
       "<style scoped>\n",
       "    .dataframe tbody tr th:only-of-type {\n",
       "        vertical-align: middle;\n",
       "    }\n",
       "\n",
       "    .dataframe tbody tr th {\n",
       "        vertical-align: top;\n",
       "    }\n",
       "\n",
       "    .dataframe thead th {\n",
       "        text-align: right;\n",
       "    }\n",
       "</style>\n",
       "<table border=\"1\" class=\"dataframe\">\n",
       "  <thead>\n",
       "    <tr style=\"text-align: right;\">\n",
       "      <th></th>\n",
       "      <th>Age</th>\n",
       "      <th>BusinessTravel</th>\n",
       "      <th>MonthlyIncome</th>\n",
       "      <th>JobSatisfaction</th>\n",
       "      <th>Bonus</th>\n",
       "      <th>Department</th>\n",
       "      <th>DistanceFromHome</th>\n",
       "      <th>Education</th>\n",
       "      <th>EducationField</th>\n",
       "      <th>EmployeeCount</th>\n",
       "      <th>...</th>\n",
       "      <th>JobRole</th>\n",
       "      <th>MaritalStatus</th>\n",
       "      <th>PerformanceRating</th>\n",
       "      <th>StockOptionLevel</th>\n",
       "      <th>TrainingTimesLastYear</th>\n",
       "      <th>WorkLifeBalance</th>\n",
       "      <th>YearsAtCompany</th>\n",
       "      <th>YearsSinceLastPromotion</th>\n",
       "      <th>OverTime</th>\n",
       "      <th>Attrition</th>\n",
       "    </tr>\n",
       "  </thead>\n",
       "  <tbody>\n",
       "    <tr>\n",
       "      <th>0</th>\n",
       "      <td>41</td>\n",
       "      <td>Travel_Rarely</td>\n",
       "      <td>5993</td>\n",
       "      <td>4</td>\n",
       "      <td>17979</td>\n",
       "      <td>Sales</td>\n",
       "      <td>1</td>\n",
       "      <td>2</td>\n",
       "      <td>Life Sciences</td>\n",
       "      <td>1</td>\n",
       "      <td>...</td>\n",
       "      <td>Sales Executive</td>\n",
       "      <td>Single</td>\n",
       "      <td>3</td>\n",
       "      <td>0</td>\n",
       "      <td>0</td>\n",
       "      <td>1</td>\n",
       "      <td>6</td>\n",
       "      <td>0</td>\n",
       "      <td>Yes</td>\n",
       "      <td>Yes</td>\n",
       "    </tr>\n",
       "    <tr>\n",
       "      <th>1</th>\n",
       "      <td>49</td>\n",
       "      <td>Travel_Frequently</td>\n",
       "      <td>5130</td>\n",
       "      <td>2</td>\n",
       "      <td>20520</td>\n",
       "      <td>Research &amp; Development</td>\n",
       "      <td>8</td>\n",
       "      <td>1</td>\n",
       "      <td>Life Sciences</td>\n",
       "      <td>1</td>\n",
       "      <td>...</td>\n",
       "      <td>Research Scientist</td>\n",
       "      <td>Married</td>\n",
       "      <td>4</td>\n",
       "      <td>1</td>\n",
       "      <td>3</td>\n",
       "      <td>3</td>\n",
       "      <td>10</td>\n",
       "      <td>1</td>\n",
       "      <td>No</td>\n",
       "      <td>No</td>\n",
       "    </tr>\n",
       "    <tr>\n",
       "      <th>2</th>\n",
       "      <td>37</td>\n",
       "      <td>Travel_Rarely</td>\n",
       "      <td>2090</td>\n",
       "      <td>3</td>\n",
       "      <td>6270</td>\n",
       "      <td>Research &amp; Development</td>\n",
       "      <td>2</td>\n",
       "      <td>2</td>\n",
       "      <td>Other</td>\n",
       "      <td>1</td>\n",
       "      <td>...</td>\n",
       "      <td>Laboratory Technician</td>\n",
       "      <td>Single</td>\n",
       "      <td>3</td>\n",
       "      <td>0</td>\n",
       "      <td>3</td>\n",
       "      <td>3</td>\n",
       "      <td>0</td>\n",
       "      <td>0</td>\n",
       "      <td>Yes</td>\n",
       "      <td>Yes</td>\n",
       "    </tr>\n",
       "    <tr>\n",
       "      <th>3</th>\n",
       "      <td>33</td>\n",
       "      <td>Travel_Frequently</td>\n",
       "      <td>2909</td>\n",
       "      <td>3</td>\n",
       "      <td>8727</td>\n",
       "      <td>Research &amp; Development</td>\n",
       "      <td>3</td>\n",
       "      <td>4</td>\n",
       "      <td>Life Sciences</td>\n",
       "      <td>1</td>\n",
       "      <td>...</td>\n",
       "      <td>Research Scientist</td>\n",
       "      <td>Married</td>\n",
       "      <td>3</td>\n",
       "      <td>0</td>\n",
       "      <td>3</td>\n",
       "      <td>3</td>\n",
       "      <td>8</td>\n",
       "      <td>3</td>\n",
       "      <td>Yes</td>\n",
       "      <td>No</td>\n",
       "    </tr>\n",
       "    <tr>\n",
       "      <th>4</th>\n",
       "      <td>27</td>\n",
       "      <td>Travel_Rarely</td>\n",
       "      <td>3468</td>\n",
       "      <td>2</td>\n",
       "      <td>10404</td>\n",
       "      <td>Research &amp; Development</td>\n",
       "      <td>2</td>\n",
       "      <td>1</td>\n",
       "      <td>Medical</td>\n",
       "      <td>1</td>\n",
       "      <td>...</td>\n",
       "      <td>Laboratory Technician</td>\n",
       "      <td>Married</td>\n",
       "      <td>3</td>\n",
       "      <td>1</td>\n",
       "      <td>3</td>\n",
       "      <td>3</td>\n",
       "      <td>2</td>\n",
       "      <td>2</td>\n",
       "      <td>No</td>\n",
       "      <td>No</td>\n",
       "    </tr>\n",
       "    <tr>\n",
       "      <th>...</th>\n",
       "      <td>...</td>\n",
       "      <td>...</td>\n",
       "      <td>...</td>\n",
       "      <td>...</td>\n",
       "      <td>...</td>\n",
       "      <td>...</td>\n",
       "      <td>...</td>\n",
       "      <td>...</td>\n",
       "      <td>...</td>\n",
       "      <td>...</td>\n",
       "      <td>...</td>\n",
       "      <td>...</td>\n",
       "      <td>...</td>\n",
       "      <td>...</td>\n",
       "      <td>...</td>\n",
       "      <td>...</td>\n",
       "      <td>...</td>\n",
       "      <td>...</td>\n",
       "      <td>...</td>\n",
       "      <td>...</td>\n",
       "      <td>...</td>\n",
       "    </tr>\n",
       "    <tr>\n",
       "      <th>1465</th>\n",
       "      <td>36</td>\n",
       "      <td>Travel_Frequently</td>\n",
       "      <td>2571</td>\n",
       "      <td>4</td>\n",
       "      <td>7713</td>\n",
       "      <td>Research &amp; Development</td>\n",
       "      <td>23</td>\n",
       "      <td>2</td>\n",
       "      <td>Medical</td>\n",
       "      <td>1</td>\n",
       "      <td>...</td>\n",
       "      <td>Laboratory Technician</td>\n",
       "      <td>Married</td>\n",
       "      <td>3</td>\n",
       "      <td>1</td>\n",
       "      <td>3</td>\n",
       "      <td>3</td>\n",
       "      <td>5</td>\n",
       "      <td>0</td>\n",
       "      <td>No</td>\n",
       "      <td>No</td>\n",
       "    </tr>\n",
       "    <tr>\n",
       "      <th>1466</th>\n",
       "      <td>39</td>\n",
       "      <td>Travel_Rarely</td>\n",
       "      <td>9991</td>\n",
       "      <td>1</td>\n",
       "      <td>29973</td>\n",
       "      <td>Research &amp; Development</td>\n",
       "      <td>6</td>\n",
       "      <td>1</td>\n",
       "      <td>Medical</td>\n",
       "      <td>1</td>\n",
       "      <td>...</td>\n",
       "      <td>Healthcare Representative</td>\n",
       "      <td>Married</td>\n",
       "      <td>3</td>\n",
       "      <td>1</td>\n",
       "      <td>5</td>\n",
       "      <td>3</td>\n",
       "      <td>7</td>\n",
       "      <td>1</td>\n",
       "      <td>No</td>\n",
       "      <td>No</td>\n",
       "    </tr>\n",
       "    <tr>\n",
       "      <th>1467</th>\n",
       "      <td>27</td>\n",
       "      <td>Travel_Rarely</td>\n",
       "      <td>6142</td>\n",
       "      <td>2</td>\n",
       "      <td>24568</td>\n",
       "      <td>Research &amp; Development</td>\n",
       "      <td>4</td>\n",
       "      <td>3</td>\n",
       "      <td>Life Sciences</td>\n",
       "      <td>1</td>\n",
       "      <td>...</td>\n",
       "      <td>Manufacturing Director</td>\n",
       "      <td>Married</td>\n",
       "      <td>4</td>\n",
       "      <td>1</td>\n",
       "      <td>0</td>\n",
       "      <td>3</td>\n",
       "      <td>6</td>\n",
       "      <td>0</td>\n",
       "      <td>Yes</td>\n",
       "      <td>No</td>\n",
       "    </tr>\n",
       "    <tr>\n",
       "      <th>1468</th>\n",
       "      <td>49</td>\n",
       "      <td>Travel_Frequently</td>\n",
       "      <td>5390</td>\n",
       "      <td>2</td>\n",
       "      <td>16170</td>\n",
       "      <td>Sales</td>\n",
       "      <td>2</td>\n",
       "      <td>3</td>\n",
       "      <td>Medical</td>\n",
       "      <td>1</td>\n",
       "      <td>...</td>\n",
       "      <td>Sales Executive</td>\n",
       "      <td>Married</td>\n",
       "      <td>3</td>\n",
       "      <td>0</td>\n",
       "      <td>3</td>\n",
       "      <td>2</td>\n",
       "      <td>9</td>\n",
       "      <td>0</td>\n",
       "      <td>No</td>\n",
       "      <td>No</td>\n",
       "    </tr>\n",
       "    <tr>\n",
       "      <th>1469</th>\n",
       "      <td>34</td>\n",
       "      <td>Travel_Rarely</td>\n",
       "      <td>4404</td>\n",
       "      <td>3</td>\n",
       "      <td>13212</td>\n",
       "      <td>Research &amp; Development</td>\n",
       "      <td>8</td>\n",
       "      <td>3</td>\n",
       "      <td>Medical</td>\n",
       "      <td>1</td>\n",
       "      <td>...</td>\n",
       "      <td>Laboratory Technician</td>\n",
       "      <td>Married</td>\n",
       "      <td>3</td>\n",
       "      <td>0</td>\n",
       "      <td>3</td>\n",
       "      <td>4</td>\n",
       "      <td>4</td>\n",
       "      <td>1</td>\n",
       "      <td>No</td>\n",
       "      <td>No</td>\n",
       "    </tr>\n",
       "  </tbody>\n",
       "</table>\n",
       "<p>1470 rows × 24 columns</p>\n",
       "</div>"
      ],
      "text/plain": [
       "      Age     BusinessTravel  MonthlyIncome  JobSatisfaction  Bonus  \\\n",
       "0      41      Travel_Rarely           5993                4  17979   \n",
       "1      49  Travel_Frequently           5130                2  20520   \n",
       "2      37      Travel_Rarely           2090                3   6270   \n",
       "3      33  Travel_Frequently           2909                3   8727   \n",
       "4      27      Travel_Rarely           3468                2  10404   \n",
       "...   ...                ...            ...              ...    ...   \n",
       "1465   36  Travel_Frequently           2571                4   7713   \n",
       "1466   39      Travel_Rarely           9991                1  29973   \n",
       "1467   27      Travel_Rarely           6142                2  24568   \n",
       "1468   49  Travel_Frequently           5390                2  16170   \n",
       "1469   34      Travel_Rarely           4404                3  13212   \n",
       "\n",
       "                  Department  DistanceFromHome  Education EducationField  \\\n",
       "0                      Sales                 1          2  Life Sciences   \n",
       "1     Research & Development                 8          1  Life Sciences   \n",
       "2     Research & Development                 2          2          Other   \n",
       "3     Research & Development                 3          4  Life Sciences   \n",
       "4     Research & Development                 2          1        Medical   \n",
       "...                      ...               ...        ...            ...   \n",
       "1465  Research & Development                23          2        Medical   \n",
       "1466  Research & Development                 6          1        Medical   \n",
       "1467  Research & Development                 4          3  Life Sciences   \n",
       "1468                   Sales                 2          3        Medical   \n",
       "1469  Research & Development                 8          3        Medical   \n",
       "\n",
       "      EmployeeCount  ...                    JobRole  MaritalStatus  \\\n",
       "0                 1  ...            Sales Executive         Single   \n",
       "1                 1  ...         Research Scientist        Married   \n",
       "2                 1  ...      Laboratory Technician         Single   \n",
       "3                 1  ...         Research Scientist        Married   \n",
       "4                 1  ...      Laboratory Technician        Married   \n",
       "...             ...  ...                        ...            ...   \n",
       "1465              1  ...      Laboratory Technician        Married   \n",
       "1466              1  ...  Healthcare Representative        Married   \n",
       "1467              1  ...     Manufacturing Director        Married   \n",
       "1468              1  ...            Sales Executive        Married   \n",
       "1469              1  ...      Laboratory Technician        Married   \n",
       "\n",
       "     PerformanceRating  StockOptionLevel TrainingTimesLastYear  \\\n",
       "0                    3                 0                     0   \n",
       "1                    4                 1                     3   \n",
       "2                    3                 0                     3   \n",
       "3                    3                 0                     3   \n",
       "4                    3                 1                     3   \n",
       "...                ...               ...                   ...   \n",
       "1465                 3                 1                     3   \n",
       "1466                 3                 1                     5   \n",
       "1467                 4                 1                     0   \n",
       "1468                 3                 0                     3   \n",
       "1469                 3                 0                     3   \n",
       "\n",
       "     WorkLifeBalance  YearsAtCompany  YearsSinceLastPromotion  OverTime  \\\n",
       "0                  1               6                        0       Yes   \n",
       "1                  3              10                        1        No   \n",
       "2                  3               0                        0       Yes   \n",
       "3                  3               8                        3       Yes   \n",
       "4                  3               2                        2        No   \n",
       "...              ...             ...                      ...       ...   \n",
       "1465               3               5                        0        No   \n",
       "1466               3               7                        1        No   \n",
       "1467               3               6                        0       Yes   \n",
       "1468               2               9                        0        No   \n",
       "1469               4               4                        1        No   \n",
       "\n",
       "      Attrition  \n",
       "0           Yes  \n",
       "1            No  \n",
       "2           Yes  \n",
       "3            No  \n",
       "4            No  \n",
       "...         ...  \n",
       "1465         No  \n",
       "1466         No  \n",
       "1467         No  \n",
       "1468         No  \n",
       "1469         No  \n",
       "\n",
       "[1470 rows x 24 columns]"
      ]
     },
     "execution_count": 2,
     "metadata": {},
     "output_type": "execute_result"
    }
   ],
   "source": [
    "#import dataset\n",
    "ds= pd .read_csv(\"dataset.csv\")\n",
    "ds"
   ]
  },
  {
   "cell_type": "code",
   "execution_count": 3,
   "id": "ad396b6b",
   "metadata": {},
   "outputs": [
    {
     "name": "stdout",
     "output_type": "stream",
     "text": [
      "<class 'pandas.core.frame.DataFrame'>\n",
      "RangeIndex: 1470 entries, 0 to 1469\n",
      "Data columns (total 24 columns):\n",
      " #   Column                   Non-Null Count  Dtype \n",
      "---  ------                   --------------  ----- \n",
      " 0   Age                      1470 non-null   int64 \n",
      " 1   BusinessTravel           1470 non-null   object\n",
      " 2   MonthlyIncome            1470 non-null   int64 \n",
      " 3   JobSatisfaction          1470 non-null   int64 \n",
      " 4   Bonus                    1470 non-null   int64 \n",
      " 5   Department               1470 non-null   object\n",
      " 6   DistanceFromHome         1470 non-null   int64 \n",
      " 7   Education                1470 non-null   int64 \n",
      " 8   EducationField           1470 non-null   object\n",
      " 9   EmployeeCount            1470 non-null   int64 \n",
      " 10  EmployeeNumber           1470 non-null   int64 \n",
      " 11  EnvironmentSatisfaction  1470 non-null   int64 \n",
      " 12  Gender                   1470 non-null   object\n",
      " 13  JobLevel                 1470 non-null   int64 \n",
      " 14  JobRole                  1470 non-null   object\n",
      " 15  MaritalStatus            1470 non-null   object\n",
      " 16  PerformanceRating        1470 non-null   int64 \n",
      " 17  StockOptionLevel         1470 non-null   int64 \n",
      " 18  TrainingTimesLastYear    1470 non-null   int64 \n",
      " 19  WorkLifeBalance          1470 non-null   int64 \n",
      " 20  YearsAtCompany           1470 non-null   int64 \n",
      " 21  YearsSinceLastPromotion  1470 non-null   int64 \n",
      " 22  OverTime                 1470 non-null   object\n",
      " 23  Attrition                1470 non-null   object\n",
      "dtypes: int64(16), object(8)\n",
      "memory usage: 275.8+ KB\n"
     ]
    }
   ],
   "source": [
    "#check for missing/null data\n",
    "ds.info()"
   ]
  },
  {
   "cell_type": "code",
   "execution_count": 4,
   "id": "2ea03519",
   "metadata": {},
   "outputs": [
    {
     "data": {
      "text/plain": [
       "24"
      ]
     },
     "execution_count": 4,
     "metadata": {},
     "output_type": "execute_result"
    }
   ],
   "source": [
    "#1) number of attributes available in the dataset\n",
    "ds.shape[1]"
   ]
  },
  {
   "cell_type": "code",
   "execution_count": 44,
   "id": "2596fb1c",
   "metadata": {},
   "outputs": [
    {
     "data": {
      "text/plain": [
       "Index(['Age', 'BusinessTravel', 'MonthlyIncome', 'JobSatisfaction', 'Bonus',\n",
       "       'Department', 'DistanceFromHome', 'Education', 'EducationField',\n",
       "       'EmployeeCount', 'EmployeeNumber', 'EnvironmentSatisfaction', 'Gender',\n",
       "       'JobLevel', 'JobRole', 'MaritalStatus', 'PerformanceRating',\n",
       "       'StockOptionLevel', 'TrainingTimesLastYear', 'WorkLifeBalance',\n",
       "       'YearsAtCompany', 'YearsSinceLastPromotion', 'OverTime', 'Attrition'],\n",
       "      dtype='object')"
      ]
     },
     "execution_count": 44,
     "metadata": {},
     "output_type": "execute_result"
    }
   ],
   "source": [
    "#name of attributes\n",
    "ds.columns"
   ]
  },
  {
   "cell_type": "code",
   "execution_count": 6,
   "id": "d5edd831",
   "metadata": {},
   "outputs": [
    {
     "data": {
      "text/plain": [
       "1470"
      ]
     },
     "execution_count": 6,
     "metadata": {},
     "output_type": "execute_result"
    }
   ],
   "source": [
    "#number of row\n",
    "len(ds) "
   ]
  },
  {
   "cell_type": "code",
   "execution_count": 7,
   "id": "9da76da8",
   "metadata": {},
   "outputs": [
    {
     "data": {
      "text/plain": [
       "(1470, 24)"
      ]
     },
     "execution_count": 7,
     "metadata": {},
     "output_type": "execute_result"
    }
   ],
   "source": [
    "#2) Dimension of this dataset \n",
    "ds.shape"
   ]
  },
  {
   "cell_type": "code",
   "execution_count": 8,
   "id": "9113b7d6",
   "metadata": {},
   "outputs": [
    {
     "data": {
      "text/plain": [
       "36.92"
      ]
     },
     "execution_count": 8,
     "metadata": {},
     "output_type": "execute_result"
    }
   ],
   "source": [
    "#3) Average of these attributes: ‘Age’, ‘Monthly Income’ and ‘Years at Company’. (round to 2 decimal places)\n",
    "age_mean =ds[\"Age\"].mean()\n",
    "round(age_mean, 2)"
   ]
  },
  {
   "cell_type": "code",
   "execution_count": 9,
   "id": "cfe486ef",
   "metadata": {},
   "outputs": [
    {
     "data": {
      "text/plain": [
       "6502.93"
      ]
     },
     "execution_count": 9,
     "metadata": {},
     "output_type": "execute_result"
    }
   ],
   "source": [
    "Income_mean =ds[\"MonthlyIncome\"].mean()\n",
    "round(Income_mean, 2)"
   ]
  },
  {
   "cell_type": "code",
   "execution_count": 10,
   "id": "4cf4fb4b",
   "metadata": {},
   "outputs": [
    {
     "data": {
      "text/plain": [
       "7.01"
      ]
     },
     "execution_count": 10,
     "metadata": {},
     "output_type": "execute_result"
    }
   ],
   "source": [
    "Years_mean =ds[\"YearsAtCompany\"].mean()\n",
    "round(Years_mean, 2)"
   ]
  },
  {
   "cell_type": "code",
   "execution_count": 47,
   "id": "6ef82c81",
   "metadata": {},
   "outputs": [],
   "source": [
    "#4) Minimum and Maximum of ‘Monthly Income’ \n"
   ]
  },
  {
   "cell_type": "code",
   "execution_count": 48,
   "id": "ba70d65a",
   "metadata": {},
   "outputs": [
    {
     "data": {
      "text/plain": [
       "19999"
      ]
     },
     "execution_count": 48,
     "metadata": {},
     "output_type": "execute_result"
    }
   ],
   "source": [
    "# Maximum of ‘Monthly Income’\n",
    "\n",
    "ds['MonthlyIncome'].max()"
   ]
  },
  {
   "cell_type": "code",
   "execution_count": 49,
   "id": "96223976",
   "metadata": {},
   "outputs": [
    {
     "data": {
      "text/plain": [
       "1009"
      ]
     },
     "execution_count": 49,
     "metadata": {},
     "output_type": "execute_result"
    }
   ],
   "source": [
    "# Minimum ‘Monthly Income’\n",
    "\n",
    "ds['MonthlyIncome'].min()"
   ]
  },
  {
   "cell_type": "code",
   "execution_count": 51,
   "id": "31bfcaae",
   "metadata": {},
   "outputs": [
    {
     "data": {
      "text/plain": [
       "2342"
      ]
     },
     "execution_count": 51,
     "metadata": {},
     "output_type": "execute_result"
    }
   ],
   "source": [
    "# Most frequent value of ‘Monthly Income’\n",
    "\n",
    "Income_most_frequent = ds['MonthlyIncome'].value_counts().idxmax()\n",
    "Income_most_frequent"
   ]
  },
  {
   "cell_type": "code",
   "execution_count": 52,
   "id": "a9c9e69e",
   "metadata": {},
   "outputs": [
    {
     "data": {
      "text/plain": [
       "3423"
      ]
     },
     "execution_count": 52,
     "metadata": {},
     "output_type": "execute_result"
    }
   ],
   "source": [
    "# Least frequent value of ‘Monthly Income’\n",
    "Income_least_frequent = ds['MonthlyIncome'].value_counts().idxmin()\n",
    "Income_least_frequent"
   ]
  },
  {
   "cell_type": "code",
   "execution_count": 13,
   "id": "a401b561",
   "metadata": {},
   "outputs": [
    {
     "data": {
      "image/png": "[encoded data removed]",
      "text/plain": [
       "<Figure size 432x288 with 1 Axes>"
      ]
     },
     "metadata": {},
     "output_type": "display_data"
    }
   ],
   "source": [
    "#5) Graphical visualization by plotting Histogram of ‘Monthly Income vs staff numbers’\n",
    "import seaborn as sns\n",
    "sns.set()\n",
    "plt.hist(ds['MonthlyIncome'])\n",
    "plt.xlabel(\"Monthly Income\")\n",
    "plt.ylabel(\"staff numbers\")\n",
    "plt.show()"
   ]
  },
  {
   "cell_type": "code",
   "execution_count": 14,
   "id": "42550d36",
   "metadata": {},
   "outputs": [],
   "source": [
    "#6) Graphical visualization of the distribution between ‘Year at Company’ and ‘Monthly Income’ using the scatter plot"
   ]
  },
  {
   "cell_type": "code",
   "execution_count": 15,
   "id": "a01e3291",
   "metadata": {},
   "outputs": [
    {
     "data": {
      "text/plain": [
       "20"
      ]
     },
     "execution_count": 15,
     "metadata": {},
     "output_type": "execute_result"
    }
   ],
   "source": [
    "#Get column location for both attributes\n",
    "\n",
    "ds.columns.get_loc(\"YearsAtCompany\")"
   ]
  },
  {
   "cell_type": "code",
   "execution_count": 16,
   "id": "0d23fab4",
   "metadata": {},
   "outputs": [
    {
     "data": {
      "text/plain": [
       "2"
      ]
     },
     "execution_count": 16,
     "metadata": {},
     "output_type": "execute_result"
    }
   ],
   "source": [
    "ds.columns.get_loc(\"MonthlyIncome\")"
   ]
  },
  {
   "cell_type": "code",
   "execution_count": 17,
   "id": "8f3771e5",
   "metadata": {},
   "outputs": [
    {
     "data": {
      "image/png": "[encoded data removed]",
      "text/plain": [
       "<Figure size 432x288 with 1 Axes>"
      ]
     },
     "metadata": {},
     "output_type": "display_data"
    }
   ],
   "source": [
    "#‘Year at Company’ vs ‘Monthly Income’ scatter plot\n",
    "\n",
    "x=ds.iloc[:,20].values\n",
    "y=ds.iloc[:,2].values\n",
    "plt.title(\"Year at Company vs Monthly Income\")\n",
    "plt.xlabel(\"Year at Company\")\n",
    "plt.ylabel(\"Monthly Income\")\n",
    "plt.scatter(x,y)\n",
    "plt.show()"
   ]
  },
  {
   "cell_type": "code",
   "execution_count": 18,
   "id": "0fe74767",
   "metadata": {},
   "outputs": [
    {
     "data": {
      "text/html": [
       "<div>\n",
       "<style scoped>\n",
       "    .dataframe tbody tr th:only-of-type {\n",
       "        vertical-align: middle;\n",
       "    }\n",
       "\n",
       "    .dataframe tbody tr th {\n",
       "        vertical-align: top;\n",
       "    }\n",
       "\n",
       "    .dataframe thead th {\n",
       "        text-align: right;\n",
       "    }\n",
       "</style>\n",
       "<table border=\"1\" class=\"dataframe\">\n",
       "  <thead>\n",
       "    <tr style=\"text-align: right;\">\n",
       "      <th></th>\n",
       "      <th>YearsAtCompany</th>\n",
       "      <th>MonthlyIncome</th>\n",
       "    </tr>\n",
       "  </thead>\n",
       "  <tbody>\n",
       "    <tr>\n",
       "      <th>YearsAtCompany</th>\n",
       "      <td>1.000000</td>\n",
       "      <td>0.514285</td>\n",
       "    </tr>\n",
       "    <tr>\n",
       "      <th>MonthlyIncome</th>\n",
       "      <td>0.514285</td>\n",
       "      <td>1.000000</td>\n",
       "    </tr>\n",
       "  </tbody>\n",
       "</table>\n",
       "</div>"
      ],
      "text/plain": [
       "                YearsAtCompany  MonthlyIncome\n",
       "YearsAtCompany        1.000000       0.514285\n",
       "MonthlyIncome         0.514285       1.000000"
      ]
     },
     "execution_count": 18,
     "metadata": {},
     "output_type": "execute_result"
    }
   ],
   "source": [
    "#7) Correlation between ‘Years at Company’ and ‘Monthly Income’ \n",
    "ds1 = ds.iloc[:, [20,2]]\n",
    "ds1.corr()"
   ]
  },
  {
   "cell_type": "markdown",
   "id": "699ade4b",
   "metadata": {},
   "source": [
    "    Based on the findings, range of monthly income at Company A is 1099 to 19999. Most frequent monthly income values is 2342 and least frequent monthly income values is 3423. On my observation, monthly income values are not very well distrubuted as shown in #5, \"Monthly Income vs staff numbers\" graph. In #6 \"Monthly income vs employees’ individual years\" graph, a linear relationship exist and shows a high positive correlation until the age of 35-40."
   ]
  }
 ],
 "metadata": {
  "kernelspec": {
   "display_name": "Python 3 (ipykernel)",
   "language": "python",
   "name": "python3"
  },
  "language_info": {
   "codemirror_mode": {
    "name": "ipython",
    "version": 3
   },
   "file_extension": ".py",
   "mimetype": "text/x-python",
   "name": "python",
   "nbconvert_exporter": "python",
   "pygments_lexer": "ipython3",
   "version": "3.9.12"
  }
 },
 "nbformat": 4,
 "nbformat_minor": 5
}
